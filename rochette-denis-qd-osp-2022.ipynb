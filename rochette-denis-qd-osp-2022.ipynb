{
  "nbformat": 4,
  "nbformat_minor": 0,
  "metadata": {
    "colab": {
      "name": "rochette-denis-qd-osp-2022.ipynb",
      "provenance": [],
      "collapsed_sections": []
    },
    "kernelspec": {
      "name": "python3",
      "display_name": "Python 3"
    },
    "language_info": {
      "name": "python"
    }
  },
  "cells": [
    {
      "cell_type": "markdown",
      "source": [
        "# **Skip to section 4 to see the results directly.**\n",
        "*Our solution is in Qiskit defaults category.*\n",
        "---"
      ],
      "metadata": {
        "id": "4l4K_R5L7wW3"
      }
    },
    {
      "cell_type": "markdown",
      "source": [
        "## 1 The Heisenberg Spin Model\n",
        "In this Open Science Prize 2021 we are asked to simulate an Hamiltonian on the *ibmq_jakarta* quantum backend. The Hamiltonian to be considered is the *Heisenberg XXX model* for 3 spins in a line:\n",
        "$$\n",
        "  H = \\sigma_x^{(0)} \\sigma_x^{(1)} + \\sigma_x^{(1)} \\sigma_x^{(2)} + \\sigma_y^{(0)} \\sigma_y^{(1)} + \\sigma_y^{(1)} \\sigma_y^{(2)} + \\sigma_z^{(0)} \\sigma_z^{(1)} + \\sigma_z^{(1)} \\sigma_z^{(2)}.\n",
        "$$\n",
        "More specifically, we have to time evolve the state $|\\psi(0)\\rangle = |110\\rangle$ to time $t = \\pi$ under the Hamiltonian $H$. The *Schrödinger equation*\n",
        "$$\n",
        "  i \\hbar \\frac{d}{dt} |\\psi(t)\\rangle = H |\\psi(t)\\rangle,\n",
        "$$\n",
        "gives us (when $\\hbar = 1$) the solution $|\\psi(t)\\rangle = U(t) \\: |\\psi(0)\\rangle$, where $U(t)$ is the time dependent unitary:\n",
        "$$\n",
        "\\begin{align}\n",
        "  U(t) &= e^{-it H} \\\\\n",
        "  &= \\exp \\Big[ -i t \\big( \\sigma_x^{(0)} \\sigma_x^{(1)} + \\sigma_x^{(1)} \\sigma_x^{(2)} + \\sigma_y^{(0)} \\sigma_y^{(1)} + \\sigma_y^{(1)} \\sigma_y^{(2)} + \\sigma_z^{(0)} \\sigma_z^{(1)} + \\sigma_z^{(1)} \\sigma_z^{(2)} \\big) \\Big].\n",
        "\\end{align}\n",
        "$$\n",
        "Simulating the evolution of the state raises two issues:\n",
        "1. The backend cannot simulate any unitary transformation, instead the backend has a finite number of available *gates*: **id**, **x**, **rz**, **sx**, **cx**. Even worst, the backend cannot apply a gate on 3 or more states. In this Open Science Prize 2021 goal is to approximate the unitary $U$ in a *circuit* simulable on the backend. We are asked to use a method called *Trotterisation*.\n",
        "2. Every gate is subject to *noise* which will significantly alter the result of the transformation. Moreover, this noise is cumulative.\n",
        "\n"
      ],
      "metadata": {
        "id": "psT47HudhLBH"
      }
    },
    {
      "cell_type": "markdown",
      "source": [
        "## 2 Trotterization\n",
        "Given 2 operators $A$ and $B$ we have the property $e^{x A} e^{x B} = e^{x (A + B)}$ if and only if $[A, B] = 0$, where $[A, B]$ is the commutator of $A$ and $B$, defined by $[A, B] = A B - B A$. When $A$ and $B$ do not commute, i.e $[A, B] \\neq 0$, we have a correction term that appears in the exponent of the right-hand side:\n",
        "$$\n",
        "  e^{x A} e^{x B} = e^{x (A + B) + \\frac{1}{2} x^2 [A,B] + \\mathcal{O} (x^3)}.\n",
        "$$\n",
        "The trotterisation consists of dividing the parameter $x$ into $N$ slices of the form\n",
        "$$\n",
        "  {\\Big( e^{\\frac{x}{N} A} e^{\\frac{x}{N} B} \\Big)}^N = e^{x (A + B) + \\frac{1}{2} \\frac{x^2}{N} [A,B] + \\mathcal{O} \\big( \\frac{x^3}{N^2} \\big)}. \\tag{1}\n",
        "$$\n",
        "In such a way that the correction term vanishes in the limit $N \\to \\infty$. We refer to the product $e^{\\frac{x}{N} A} e^{\\frac{x}{N} B}$ as a *Trotter step*.\n",
        "The Trotter formula ($1$) can be generalized for higher-order correction terms:\n",
        "$$\n",
        "  e^{x p_1 A} e^{x p_2 B} e^{x p_3 A} e^{x p_4 B} \\cdots e^{x p_M B} = e^{x (A + B) + \\mathcal{O} (x^m)}.\n",
        "$$\n",
        "A first improvement of the 1-step Trotter formula ($1$) is the second-order approximant $S_2 (x) = e^{\\frac{x}{2} A} e^{x B} e^{\\frac{x}{2} A}$.\n",
        "This area of research has been intensively studied by Masuo Suzuki, who found a recursive formula for constructing higher (even) order approximants:\n",
        "$$\n",
        "  S_{2k} (x) = S_{2k-2} (s_k x)^2 \\: S_{2k-2} ((1 - 4 s_k) x) \\: S_{2k-2} (s_k x)^2,\n",
        "$$\n",
        "with $s_k = {\\big( 4 - 4^{1 / (2k - 1)} \\big)}^{-1}$.\n",
        "Note that this decomposition is neither unique nor optimal!"
      ],
      "metadata": {
        "id": "oxv2DRUbpzlb"
      }
    },
    {
      "cell_type": "markdown",
      "source": [
        "## 3 Trotterization and Quantum simulation\n",
        "In the Open Science Prize 2021, we are asked to solve the Hamiltonian simulation problem using the Trotterisation with at least 4 steps: $e^{x p_1 A} e^{x p_2 B} \\cdots e^{x p_7 A} e^{x p_8 B}$. It is clear that without noise, the more steps you add, the better the approximation. It is also clear that on a noisy backend, the noise increases with the depth of the circuit. So we have to make this subtle trade-off.\n",
        "In the settings of the Open Science Prize 2021, we set\n",
        "$$\n",
        "  A = \\sigma_x^{(0)} \\sigma_x^{(1)} + \\sigma_y^{(0)} \\sigma_y^{(1)} + \\sigma_z^{(0)} \\sigma_z^{(1)}, \\qquad B = \\sigma_x^{(1)} \\sigma_x^{(2)} + \\sigma_y^{(1)} \\sigma_y^{(2)} + \\sigma_z^{(1)} \\sigma_z^{(2)}.\n",
        "$$\n",
        "Then each exponential $e^{x A}$ and $e^{x B}$ is again decomposed into a product of even simpler exponentials:\n",
        "$$\n",
        "\\begin{align*}\n",
        "  e^{x A} &= e^{x \\sigma_x^{(0)} \\sigma_x^{(1)}} \\: e^{x \\sigma_y^{(0)} \\sigma_y^{(1)}} \\: e^{\\sigma_z^{(0)} \\sigma_z^{(1)}} + \\mathcal{O}(x^2) \\\\\n",
        "  e^{x B} &= e^{x \\sigma_x^{(1)} \\sigma_x^{(2)}} \\: e^{x \\sigma_y^{(1)} \\sigma_y^{(2)}} \\: e^{\\sigma_z^{(1)} \\sigma_z^{(2)}} + \\mathcal{O}(x^2).\n",
        "\\end{align*}\n",
        "$$\n",
        "These simpler exponentials are well known and can be implemented using the available gates of the backend:\n",
        "$$\n",
        "\\begin{align*}\n",
        "  e^{x \\: \\sigma_x \\otimes \\sigma_x} &=\n",
        "  \\begin{pmatrix}\n",
        "       \\cos(x) &          0 &            0 & -i * \\sin(x) \\\\\n",
        "             0 &    \\cos(x) & -i * \\sin(x) &            0 \\\\\n",
        "             0 & -i \\sin(x) &      \\cos(x) &            0 \\\\\n",
        "    -i \\sin(x) &          0 &            0 &      \\cos(x)\n",
        "  \\end{pmatrix} \\\\[.5em]\n",
        "  e^{x \\: \\sigma_y \\otimes \\sigma_y} &=\n",
        "  \\begin{pmatrix}\n",
        "      \\cos(x) &          0 &            0 & i * \\sin(x) \\\\\n",
        "            0 &    \\cos(x) & -i * \\sin(x) &           0 \\\\\n",
        "            0 & -i \\sin(x) &      \\cos(x) &           0 \\\\\n",
        "    i \\sin(x) &          0 &            0 &     \\cos(x)\n",
        "  \\end{pmatrix} \\\\[.5em]\n",
        "  e^{x \\: \\sigma_z \\otimes \\sigma_z} &=\n",
        "  \\begin{pmatrix}\n",
        "    e^{-i x} &       0 &       0 &       0 \\\\\n",
        "           0 & e^{i x} &       0 &       0 \\\\\n",
        "           0 &       0 & e^{i x} &       0 \\\\\n",
        "           0 &       0 &       0 & e^{-i x}\n",
        "  \\end{pmatrix}.\n",
        "\\end{align*}\n",
        "$$"
      ],
      "metadata": {
        "id": "QLpTI7nr8Zh4"
      }
    },
    {
      "cell_type": "markdown",
      "source": [
        "## 4 Improvements of the Trotter formula\n",
        "As mentioned in section 2, the Trotter formula ($1$) is a first-order approximant, and can be generalized for higher-order correction terms:\n",
        "$$\n",
        "  e^{x p_1 A} e^{x p_2 B} e^{x p_3 A} e^{x p_4 B} \\cdots e^{x p_M B} = e^{x (A + B) + \\mathcal{O} (x^m)}.\n",
        "$$\n",
        "Masuo Suzuki found a second-order approximant $S_2(x)$ and a recursive formula for even-order approximants $S_{2k} (x)$.\n",
        "One may ask which other second-order approximant can we find of the form:\n",
        "$$\n",
        "\\begin{align*}\n",
        "e^{x p_1 A} e^{x p_2 B} e^{x p_3 A} e^{x p_4 B} &=  e^{x (A + B) + \\mathcal{O} (x^3)}.\\tag{2} \\\\ \n",
        "e^{x p_1 A} e^{x p_2 B} e^{x p_3 B} e^{x p_4 A} &= e^{x (A + B) + \\mathcal{O} (x^3)}. \\tag{3}\n",
        "\\end{align*}\n",
        "$$\n",
        "Solving Eq. ($2$) give us the system of equations:\n",
        "$$\n",
        "\\begin{cases}\n",
        "  p_1 + p_3 &= 1 \\\\\n",
        "  p_2 + p_4 &= 1 \\\\\n",
        "  \\frac{p_1^2}{2} + p_1 p_3 + \\frac{p_3^2}{2} &= \\frac{2}{2} \\\\\n",
        "  p_1 p_2 + p_1 p_4 + p_3 p_4 &= \\frac{1}{2} \\\\\n",
        "  p_2 p_3 &= \\frac{1}{2} \\\\\n",
        "  \\frac{p_2^2}{2} + p_2 p_4 + \\frac{p_4^2}{2} &= \\frac{2}{2}\n",
        "\\end{cases}\n",
        "\\quad \\Longrightarrow \\quad\n",
        "\\begin{cases}\n",
        "  p_1 &= 1 - p_3 \\\\\n",
        "  p_2 &= \\frac{1}{2 p_3} \\\\\n",
        "  p_3 &\\neq 0 \\\\\n",
        "  p_4 &= 1 - \\frac{1}{2 p_3}.\n",
        "\\end{cases} \\tag{4}\n",
        "$$\n",
        "Similarly solving Eq. ($3$) give us the system of equations:\n",
        "$$\n",
        "\\begin{cases}\n",
        "  p_1 + p_4 &= 1 \\\\\n",
        "  p_2 + p_3 &= 1 \\\\\n",
        "  \\frac{p_1^2}{2} + p_1 p_4 + \\frac{p_4^2}{2} &= \\frac{2}{2} \\\\\n",
        "  p_1 p_2 + p_1 p_3 &= \\frac{1}{2} \\\\\n",
        "  p_2 p_4 + p_3 p_4 &= \\frac{1}{2} \\\\\n",
        "  \\frac{p_2^2}{2} + p_2 p_3 + \\frac{p_3^2}{2} &= \\frac{2}{2}\n",
        "\\end{cases}\n",
        "\\quad \\Longrightarrow \\quad\n",
        "\\begin{cases}\n",
        "  p_1 &= \\frac{1}{2} \\\\\n",
        "  p_2 &= 1 - p_3 \\\\\n",
        "  p_3 &\\in \\mathbb{R} \\\\\n",
        "  p_4 &= \\frac{1}{2}.\n",
        "\\end{cases} \\tag{5}\n",
        "$$\n",
        "This defines two Trotter 4-step formulas:\n",
        "$$\n",
        "\\begin{align*}\n",
        "  \\text{ABAB} &= {\\Big( e^{x \\frac{p_1}{2} A} e^{x \\frac{p_2}{2} B} e^{x \\frac{p_3}{2} A} e^{x \\frac{p_4}{2} B} \\Big)}^2 \\\\\n",
        "  \\text{ABBA}&= {\\Big( e^{x \\frac{p_1}{2} A} e^{x \\frac{p_2}{2} B} e^{x \\frac{p_3}{2} B} e^{x \\frac{p_4}{2} A} \\Big)}^2,\n",
        "\\end{align*}\n",
        "$$\n",
        "that we want to compare with the original 4-step Trotter formula\n",
        "$$\n",
        "  \\text{Trotter} = {\\Big( e^{\\frac{x}{4} A} e^{\\frac{x}{4} B} \\Big)}^4,\n",
        "$$\n",
        "and the Suzuki formula\n",
        "$$\n",
        "  \\text{Suzuki} = S_4 (x).\n",
        "$$\n",
        "In order to compare these formula we define the error distances to $e^{-i x (A + B)}$:\n",
        "$$\n",
        "  \\begin{align*}\n",
        "    E_{\\scriptscriptstyle \\text{ABAB}} (x) &= \\Big{\\|} e^{-i x (A + B)} - {\\Big( e^{x \\frac{p_1}{2} A} e^{x \\frac{p_2}{2} B} e^{x \\frac{p_3}{2} A} e^{x \\frac{p_4}{2} B} \\Big)}^2 \\Big{\\|} \\\\[.5em]\n",
        "    E_{\\scriptscriptstyle \\text{ABBA}} (x) &= \\Big{\\|} e^{-i x (A + B)} - {\\Big( e^{x \\frac{p_1}{2} A} e^{x \\frac{p_2}{2} B} e^{x \\frac{p_3}{2} B} e^{x \\frac{p_4}{2} A} \\Big)}^2 \\Big{\\|} \\\\[.5em]\n",
        "    E_{\\scriptscriptstyle \\text{Trotter}} (x) &= \\Big{\\|} e^{-i x (A + B)} - {\\Big( e^{\\frac{x}{4} A} e^{\\frac{x}{4} B} \\Big)}^4 \\Big{\\|} \\\\[.5em]\n",
        "    E_{\\scriptscriptstyle \\text{Suzuki}} (x) &= \\Big{\\|} e^{-i x (A + B)} - S_4 (x) \\Big{\\|}.\n",
        "  \\end{align*}\n",
        "$$\n",
        "Note that for $E_{\\scriptscriptstyle \\text{ABAB}}$ and $E_{\\scriptscriptstyle \\text{ABBA}}$, the parameters $p_1, p_2, p_3, p_4$ are chosen to minimize the error while respecting the systems of equations ($4$) and ($5$). The errors are summarised in the following stacked plot. According to this heuristic, the $\\text{ABAB}$ formula seems to be the most stable, and is therefore chosen to simulate the Hamiltonian in the next section. \n",
        "![errors.png](data:image/png;base64,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)"
      ],
      "metadata": {
        "id": "BD8VTKSHTpVs"
      }
    },
    {
      "cell_type": "markdown",
      "source": [
        "## 5 Implementation\n",
        "The implementation follows mostly the notebook provided by the organizers."
      ],
      "metadata": {
        "id": "cNMNAZd0cKuE"
      }
    },
    {
      "cell_type": "markdown",
      "source": [
        "### 5.1 Qiskit and Numpy imports"
      ],
      "metadata": {
        "id": "3b34fqjmd8BS"
      }
    },
    {
      "cell_type": "code",
      "source": [
        "!pip install qiskit numpy"
      ],
      "metadata": {
        "id": "C5ndF-xIkj-0"
      },
      "execution_count": null,
      "outputs": []
    },
    {
      "cell_type": "code",
      "source": [
        "# Suppress warnings (qiskit ignis is deprecated)\n",
        "import warnings\n",
        "warnings.filterwarnings(\"ignore\")\n",
        "\n",
        "import numpy as np\n",
        "\n",
        "from qiskit import execute, IBMQ, QuantumCircuit, QuantumRegister, transpile\n",
        "from qiskit.circuit import Parameter\n",
        "from qiskit.ignis.verification.tomography import state_tomography_circuits, StateTomographyFitter\n",
        "from qiskit.opflow import Zero, One\n",
        "from qiskit.providers.aer import AerSimulator\n",
        "from qiskit.quantum_info import state_fidelity\n",
        "from qiskit.tools.monitor import job_monitor\n",
        "from qiskit.result import Result"
      ],
      "metadata": {
        "id": "zUl6IOj3d34E"
      },
      "execution_count": 2,
      "outputs": []
    },
    {
      "cell_type": "markdown",
      "source": [
        "### 5.2 Load IBMQ Account data\n",
        "Replace `TOKEN` with your API token string (https://quantum-computing.ibm.com/lab/docs/iql/manage/account/ibmq)"
      ],
      "metadata": {
        "id": "XuFKytjjeE8i"
      }
    },
    {
      "cell_type": "code",
      "source": [
        "TOKEN = TOKEN\n",
        "IBMQ.save_account(TOKEN, overwrite=True)\n",
        "IBMQ.load_account()"
      ],
      "metadata": {
        "id": "XV0VtD83eCfh"
      },
      "execution_count": null,
      "outputs": []
    },
    {
      "cell_type": "markdown",
      "source": [
        "### 5.3 Get backend for experiment\n",
        "Returns the ibmq_jakarta noisy quantum backend, or a noisy/noiseless quantum simulator."
      ],
      "metadata": {
        "id": "L2Q0qSLWegAO"
      }
    },
    {
      "cell_type": "code",
      "source": [
        "def quantum_backend(simulator, noisy):\n",
        "  if not simulator and not noisy:\n",
        "    raise RuntimeError(\"Nice try!\")\n",
        "\n",
        "  # ibmq_jakarta backend\n",
        "  provider = IBMQ.get_provider(hub=\"ibm-q-community\", group=\"ibmquantumawards\", project=\"open-science-22\")\n",
        "  jakarta = provider.get_backend(\"ibmq_jakarta\")\n",
        "  \n",
        "  if not simulator:\n",
        "    return jakarta\n",
        "\n",
        "  # Simulated backend based on ibmq_jakarta's noise profile\n",
        "  jakarta_simulator = AerSimulator.from_backend(jakarta)\n",
        "  \n",
        "  # Noiseless simulated backend\n",
        "  simulator = AerSimulator()\n",
        "\n",
        "  if not noisy:\n",
        "    return simulator\n",
        "  else:\n",
        "    return jakarta_simulator"
      ],
      "metadata": {
        "id": "V9S4dS2HeojT"
      },
      "execution_count": 16,
      "outputs": []
    },
    {
      "cell_type": "markdown",
      "source": [
        "### 5.4 Build XX/YY/ZZ gates\n",
        "Build subcircuits for the parametrized 2-qubit gates\n",
        "$$\n",
        "\\begin{align*}\n",
        "  e^{x \\cdot c \\: \\sigma_x \\otimes \\sigma_x} \\\\[.5em]\n",
        "  e^{x \\cdot c \\: \\sigma_y \\otimes \\sigma_y} \\\\[.5em]\n",
        "  e^{x \\cdot c \\: \\sigma_z \\otimes \\sigma_z}\n",
        "\\end{align*}\n",
        "$$\n",
        "where $t$ is the time parameter, and $c$ is some chosen scalar."
      ],
      "metadata": {
        "id": "YuWsqvE5f-bb"
      }
    },
    {
      "cell_type": "code",
      "source": [
        "# Build a subcircuit for the XX(t*c) 2-qubit gate\n",
        "def XX_gate(t, c):\n",
        "  qr = QuantumRegister(2)\n",
        "  qc = QuantumCircuit(qr, name=\"XX\")\n",
        "  \n",
        "  qc.ry(np.pi / 2., [qr[0], qr[1]])\n",
        "  qc.cnot(qr[0], qr[1])\n",
        "  qc.rz(2. * t * c, qr[1])\n",
        "  qc.cnot(qr[0], qr[1])\n",
        "  qc.ry(-np.pi / 2., [qr[0], qr[1]])\n",
        "  \n",
        "  # Convert quantum circuit into a gate\n",
        "  return qc.to_instruction()\n",
        "\n",
        "# Build a subcircuit for the YY(t *c) 2-qubit gate\n",
        "def YY_gate(t, c):\n",
        "  qr = QuantumRegister(2)\n",
        "  qc = QuantumCircuit(qr, name=\"YY\")\n",
        "  \n",
        "  qc.rx(np.pi / 2., [qr[0], qr[1]])\n",
        "  qc.cnot(qr[0], qr[1])\n",
        "  qc.rz(2. * t * c, qr[1])\n",
        "  qc.cnot(qr[0], qr[1])\n",
        "  qc.rx(-np.pi / 2., [qr[0], qr[1]])\n",
        "  \n",
        "  # Convert quantum circuit into a gate\n",
        "  return qc.to_instruction()\n",
        "\n",
        "# Build a subcircuit for the ZZ(t *c ) 2-qubit gate\n",
        "def ZZ_gate(t, c):\n",
        "  qr = QuantumRegister(2)\n",
        "  qc = QuantumCircuit(qr, name=\"ZZ\")\n",
        "  \n",
        "  qc.cnot(qr[0], qr[1])\n",
        "  qc.rz(2. * t * c, qr[1])\n",
        "  qc.cnot(qr[0], qr[1])\n",
        "  \n",
        "  # Convert custom quantum circuit into a gate\n",
        "  return qc.to_instruction()"
      ],
      "metadata": {
        "id": "kjGYlU0LhPJF"
      },
      "execution_count": 5,
      "outputs": []
    },
    {
      "cell_type": "markdown",
      "source": [
        "### 5.5 Build $\\text{ABAB}$ Trotter gate\n",
        "Build the $\\text{ABAB}$ Trotter gate from section 4, with parameters:\n",
        "$$\n",
        "  p_1 = 1 - p_3, \\quad p_2 = \\frac{1}{2 p_3}, \\quad p_3 = 0.5 \\enspace \\text{ and } \\enspace p_4 = 1 - \\frac{1}{2 p_3},\n",
        "$$\n",
        "where $p_3$ is chosen to minimize error $E_{\\text{ABAB}} (t)$ when $t = \\pi$."
      ],
      "metadata": {
        "id": "u8Y8u5l6h1Hx"
      }
    },
    {
      "cell_type": "code",
      "source": [
        "# Combine subcircuits into a single multiqubit gate representing the Trotter gate\n",
        "def Trotter_gate_4_steps_custom_formula(t):\n",
        "  qr = QuantumRegister(3)\n",
        "  qc = QuantumCircuit(qr, name=\"Trotter\")\n",
        " \n",
        "  # Build subcircuits for the XX(t * c) / YY(t * c) / ZZ(t * c) 2-qubit gates\n",
        "  XX = lambda c: XX_gate(t, c) \n",
        "  YY = lambda c: YY_gate(t, c) \n",
        "  ZZ = lambda c: ZZ_gate(t, c) \n",
        "\n",
        "  # Second-order approximant:\n",
        "  p = 0.5 # Optimal parameter\n",
        "  ps = [1. - p, 1. / (2. * p), p, 1. - 1. / (2. * p)] # Approximant formula's parameters\n",
        "\n",
        "  # 1st Trotter step\n",
        "  qc.append(XX(ps[0] / 2.), [qr[0], qr[1]])\n",
        "  qc.append(YY(ps[0] / 2.), [qr[0], qr[1]])\n",
        "  qc.append(ZZ(ps[0] / 2.), [qr[0], qr[1]])\n",
        "  qc.append(XX(ps[1] / 2.), [qr[1], qr[2]])\n",
        "  qc.append(YY(ps[1] / 2.), [qr[1], qr[2]])\n",
        "  qc.append(ZZ(ps[1] / 2.), [qr[1], qr[2]])\n",
        "\n",
        "  # 2nd trotter step\n",
        "  qc.append(XX(ps[2] / 2.), [qr[0], qr[1]])\n",
        "  qc.append(YY(ps[2] / 2.), [qr[0], qr[1]])\n",
        "  qc.append(ZZ(ps[2] / 2.), [qr[0], qr[1]])\n",
        "  qc.append(XX(ps[3] / 2.), [qr[1], qr[2]])\n",
        "  qc.append(YY(ps[3] / 2.), [qr[1], qr[2]])\n",
        "  qc.append(ZZ(ps[3] / 2.), [qr[1], qr[2]])\n",
        "\n",
        "  # 3rd Trotter step\n",
        "  qc.append(XX(ps[0] / 2.), [qr[0], qr[1]])\n",
        "  qc.append(YY(ps[0] / 2.), [qr[0], qr[1]])\n",
        "  qc.append(ZZ(ps[0] / 2.), [qr[0], qr[1]])\n",
        "  qc.append(XX(ps[1] / 2.), [qr[1], qr[2]])\n",
        "  qc.append(YY(ps[1] / 2.), [qr[1], qr[2]])\n",
        "  qc.append(ZZ(ps[1] / 2.), [qr[1], qr[2]])\n",
        "\n",
        "  # 4th trotter step\n",
        "  qc.append(XX(ps[2] / 2.), [qr[0], qr[1]])\n",
        "  qc.append(YY(ps[2] / 2.), [qr[0], qr[1]])\n",
        "  qc.append(ZZ(ps[2] / 2.), [qr[0], qr[1]])\n",
        "  qc.append(XX(ps[3] / 2.), [qr[1], qr[2]])\n",
        "  qc.append(YY(ps[3] / 2.), [qr[1], qr[2]])\n",
        "  qc.append(ZZ(ps[3] / 2.), [qr[1], qr[2]])\n",
        "\n",
        "  # Convert custom quantum circuit into a gate\n",
        "  return qc.to_instruction()"
      ],
      "metadata": {
        "id": "Na5UV_6Fjia-"
      },
      "execution_count": 6,
      "outputs": []
    },
    {
      "cell_type": "markdown",
      "source": [
        "### 5.6 Tomography & Fidelity\n",
        "Compute the fidelity between the result and the target states using state tomography."
      ],
      "metadata": {
        "id": "ZK6JKJhFjzUV"
      }
    },
    {
      "cell_type": "code",
      "source": [
        "def state_tomography_fidelity(result, target, circuits):\n",
        "    # Fit state tomography result\n",
        "    fitter = StateTomographyFitter(result, circuits)\n",
        "    rho = fitter.fit(method=\"lstsq\")\n",
        "\n",
        "    # Compute fidelity\n",
        "    return state_fidelity(rho, target)"
      ],
      "metadata": {
        "id": "LBB-yCYakCPM"
      },
      "execution_count": 7,
      "outputs": []
    },
    {
      "cell_type": "markdown",
      "source": [
        "### 5.7 Results without error mitigation\n",
        "Replace `simulator=True` with `simulator=False` to run the simulation on the ibmq_jakarta noisy quantum backend.\n",
        "> Usually we have a fidelity on noisy simulator around `0.68`"
      ],
      "metadata": {
        "id": "jbB8oNATkNIa"
      }
    },
    {
      "cell_type": "code",
      "source": [
        "# Open Science Prize 2021\n",
        "def open_science_prize_2021_without_error_mitigation(simulator):  \n",
        "  # Get backend for experiement\n",
        "  backend = quantum_backend(simulator=simulator, noisy=True)\n",
        "  \n",
        "  # Define the time parameter\n",
        "  time = Parameter(\"t\")\n",
        "  target_time = np.pi\n",
        "\n",
        "  # Create a quantum circuit acting with 7 qubits\n",
        "  qr = QuantumRegister(7)\n",
        "  qc = QuantumCircuit(qr, name=\"OSP21\")\n",
        "  \n",
        "  # Initialize qubits 3 & 5 to |1⟩ and the others to |0⟩\n",
        "  qc.x([qr[3], qr[5]])\n",
        "\n",
        "  # Simulate time evolution under the XXX Heisenberg model Hamiltonian on qubits 1, 2 and 5\n",
        "  qc.barrier()\n",
        "  qc.append(Trotter_gate_4_steps_custom_formula(time), [qr[1], qr[3], qr[5]])\n",
        "  qc.barrier()\n",
        "  \n",
        "  # Bind the time parameter to the target_time\n",
        "  qc = qc.bind_parameters({time: target_time})\n",
        "  \n",
        "  # Generate state tomography circuits\n",
        "  qcs = state_tomography_circuits(qc, [qr[1], qr[3], qr[5]])\n",
        "\n",
        "  # Experiments settings \n",
        "  shots = 1024 #8192\n",
        "  count = 2 #8\n",
        "\n",
        "  # Experiments execution\n",
        "  jobs = []\n",
        "  for _ in range(0, count):\n",
        "    # Execute the circuit on the backend\n",
        "    job = execute(qcs, backend, shots=shots)\n",
        "    jobs.append(job)\n",
        "\n",
        "  # Jobs monitoring \n",
        "  for i, job in enumerate(jobs):\n",
        "    print(f\"Jobs monitoring: {100 * i / len(jobs):.0f}%\")\n",
        "    job_monitor(job, quiet=True)\n",
        "  print(\"Jobs monitoring: 100%\")\n",
        "\n",
        "  # The target state\n",
        "  target_state = (One^One^Zero).to_matrix()  # |110>\n",
        "\n",
        "  # Compute fidelities using tomography for each repetition\n",
        "  fidelities = []\n",
        "  for i, job in enumerate(jobs):\n",
        "      print(f\"States tomography: {100 * i / len(jobs):.0f}%\")\n",
        "      fidelity = state_tomography_fidelity(job.result(), target_state, qcs)\n",
        "      fidelities.append(fidelity)\n",
        "  print(\"States tomography: 100%\")\n",
        "      \n",
        "  print(f\"State tomography fidelity = {np.mean(fidelities):.4f} \\u00B1 {np.std(fidelities):.4f}\")"
      ],
      "metadata": {
        "id": "TsFl2dghkUUE"
      },
      "execution_count": 8,
      "outputs": []
    },
    {
      "cell_type": "code",
      "source": [
        "open_science_prize_2021_without_error_mitigation(simulator=True)"
      ],
      "metadata": {
        "colab": {
          "base_uri": "https://localhost:8080/"
        },
        "id": "eGLQQJPbkZGi",
        "outputId": "814ddeda-7817-4c70-c098-257542a3c762"
      },
      "execution_count": 9,
      "outputs": [
        {
          "output_type": "stream",
          "name": "stdout",
          "text": [
            "Jobs monitoring: 0%\n",
            "Jobs monitoring: 50%\n",
            "Jobs monitoring: 100%\n",
            "States tomography: 0%\n",
            "States tomography: 50%\n",
            "States tomography: 100%\n",
            "State tomography fidelity = 0.6927 ± 0.0026\n"
          ]
        }
      ]
    },
    {
      "cell_type": "markdown",
      "source": [
        "### 5.7 Results with error mitigation\n",
        "We tackled the noise problem by *error mitigation* methods (see Suguru Endo's [PhD thesis](https://ora.ox.ac.uk/objects/uuid:6733c0f6-1b19-4d12-a899-18946aa5df85)).\n",
        "The error mitigation methods are designed to mitigate error of an expectation value, not a quantum state itself. In this implementation we mitigate the `counts` error, use in tomography reconstruction.\n",
        "In order to do that, we need some helper functions."
      ],
      "metadata": {
        "id": "B4rAFvnQrlpS"
      }
    },
    {
      "cell_type": "markdown",
      "source": [
        "#### 5.7.1 Mitigated `Result`\n",
        "The Open Science Prize 2021 judges the implementations according to the states fidelity, based on tomography techniques. The Qiskit tomography algorithm uses the `Result` object and specially the `counts` data.\n",
        "In order to use error mitigation we write a function returning a new `Result` given mitigated `counts`."
      ],
      "metadata": {
        "id": "HG_1fxtgtIFI"
      }
    },
    {
      "cell_type": "code",
      "source": [
        "def mitigates_result(result, mitigated_counts, circuits):\n",
        "  for i, circuit in enumerate(circuits):\n",
        "    for key in result.data(circuit)[\"counts\"].keys():\n",
        "      result.data(circuit)[\"counts\"][key] = mitigated_counts[i][key]\n",
        "\n",
        "  return result"
      ],
      "metadata": {
        "id": "kwKXl32z0gJE"
      },
      "execution_count": 10,
      "outputs": []
    },
    {
      "cell_type": "markdown",
      "source": [
        "#### 5.7.2 Noise boosted $\\text{ABAB}$ Trotter gate\n",
        "Error mitigation requires to be able to repeatedly running the circuit at different boosted noise levels. We chose to increase the number of steps in order to artificially increase the noise in the $\\text{ABAB}$ Trotter gate."
      ],
      "metadata": {
        "id": "uJCRnmtvD4MA"
      }
    },
    {
      "cell_type": "code",
      "source": [
        "# Combine subcircuits into a single multiqubit gate representing the Trotter gate with noise boosted\n",
        "def Trotter_gate_4_steps_custom_formula_noise_boosted(t, noise_level):\n",
        "  qr = QuantumRegister(3)\n",
        "  qc = QuantumCircuit(qr, name=\"Trotter\")\n",
        " \n",
        "  # Build subcircuits for the XX(t * c) / YY(t * c) / ZZ(t * c) 2-qubit gates\n",
        "  XX = lambda c: XX_gate(t, c) \n",
        "  YY = lambda c: YY_gate(t, c) \n",
        "  ZZ = lambda c: ZZ_gate(t, c) \n",
        "\n",
        "  # Second-order approximant:\n",
        "  p = 0.5 # optimal parameter\n",
        "  ps = [1. - p, 1. / (2. * p), p, 1. - 1. / (2. * p)] # Approximant formula's parameters\n",
        "\n",
        "  for _ in range(0, noise_level):\n",
        "    # 1st Trotter step\n",
        "    qc.append(XX(ps[0] / (2. * noise_level)), [qr[0], qr[1]])\n",
        "    qc.append(YY(ps[0] / (2. * noise_level)), [qr[0], qr[1]])\n",
        "    qc.append(ZZ(ps[0] / (2. * noise_level)), [qr[0], qr[1]])\n",
        "    qc.append(XX(ps[1] / (2. * noise_level)), [qr[1], qr[2]])\n",
        "    qc.append(YY(ps[1] / (2. * noise_level)), [qr[1], qr[2]])\n",
        "    qc.append(ZZ(ps[1] / (2. * noise_level)), [qr[1], qr[2]])\n",
        "\n",
        "    # 2nd trotter step\n",
        "    qc.append(XX(ps[2] / (2. * noise_level)), [qr[0], qr[1]])\n",
        "    qc.append(YY(ps[2] / (2. * noise_level)), [qr[0], qr[1]])\n",
        "    qc.append(ZZ(ps[2] / (2. * noise_level)), [qr[0], qr[1]])\n",
        "    qc.append(XX(ps[3] / (2. * noise_level)), [qr[1], qr[2]])\n",
        "    qc.append(YY(ps[3] / (2. * noise_level)), [qr[1], qr[2]])\n",
        "    qc.append(ZZ(ps[3] / (2. * noise_level)), [qr[1], qr[2]])\n",
        "\n",
        "    # 3rd Trotter step\n",
        "    qc.append(XX(ps[0] / (2. * noise_level)), [qr[0], qr[1]])\n",
        "    qc.append(YY(ps[0] / (2. * noise_level)), [qr[0], qr[1]])\n",
        "    qc.append(ZZ(ps[0] / (2. * noise_level)), [qr[0], qr[1]])\n",
        "    qc.append(XX(ps[1] / (2. * noise_level)), [qr[1], qr[2]])\n",
        "    qc.append(YY(ps[1] / (2. * noise_level)), [qr[1], qr[2]])\n",
        "    qc.append(ZZ(ps[1] / (2. * noise_level)), [qr[1], qr[2]])\n",
        "\n",
        "    # 4th trotter step\n",
        "    qc.append(XX(ps[2] / (2. * noise_level)), [qr[0], qr[1]])\n",
        "    qc.append(YY(ps[2] / (2. * noise_level)), [qr[0], qr[1]])\n",
        "    qc.append(ZZ(ps[2] / (2. * noise_level)), [qr[0], qr[1]])\n",
        "    qc.append(XX(ps[3] / (2. * noise_level)), [qr[1], qr[2]])\n",
        "    qc.append(YY(ps[3] / (2. * noise_level)), [qr[1], qr[2]])\n",
        "    qc.append(ZZ(ps[3] / (2. * noise_level)), [qr[1], qr[2]])\n",
        "\n",
        "  # Convert custom quantum circuit into a gate\n",
        "  return qc.to_instruction()"
      ],
      "metadata": {
        "id": "I6SSLFN1ApIM"
      },
      "execution_count": 11,
      "outputs": []
    },
    {
      "cell_type": "markdown",
      "source": [
        "#### 5.7.3 Sample `counts`\n",
        "\n",
        "We sample `counts` for several noise levels in `Trotter_gate_4_steps_custom_formula_noise_boosted`."
      ],
      "metadata": {
        "id": "0aiap1w-RYp0"
      }
    },
    {
      "cell_type": "code",
      "source": [
        "def sample_counts(noise_levels, simulator):\n",
        "  sampled_counts = []\n",
        "\n",
        "  # Get backend for experiement\n",
        "  backend = quantum_backend(simulator=simulator, noisy=True)\n",
        "  \n",
        "  # Define the time parameter\n",
        "  time = Parameter(\"t\")\n",
        "  target_time = np.pi\n",
        "\n",
        "  for i, noise_level in enumerate(noise_levels):\n",
        "    print(f\"Sample counts: {100 * i / len(noise_levels):.0f}%\")\n",
        "\n",
        "    # Create a quantum circuit acting with 7 qubits\n",
        "    qr = QuantumRegister(7)\n",
        "    qc = QuantumCircuit(qr, name=\"OSP21\")\n",
        "  \n",
        "    # Initialize qubits 3 & 5 to |1⟩ and the others to |0⟩\n",
        "    qc.x([qr[3], qr[5]])\n",
        "\n",
        "    # Simulate time evolution under the XXX Heisenberg model Hamiltonian on qubits 1, 2 and 5\n",
        "    qc.barrier()\n",
        "    qc.append(Trotter_gate_4_steps_custom_formula_noise_boosted(time, noise_level), [qr[1], qr[3], qr[5]])\n",
        "    qc.barrier()\n",
        "  \n",
        "    # Bind the time parameter to the target_time\n",
        "    qc = qc.bind_parameters({time: target_time})\n",
        "  \n",
        "    # Generate state tomography circuits\n",
        "    qcs = state_tomography_circuits(qc, [qr[1], qr[3], qr[5]])\n",
        "\n",
        "    # Experiments settings \n",
        "    shots = 1024\n",
        "\n",
        "    # Experiment execution\n",
        "    job = execute(qcs, backend, shots=shots)\n",
        "\n",
        "    # Job monitoring \n",
        "    job_monitor(job, quiet=True)\n",
        "  \n",
        "    # Job result\n",
        "    result = job.result()\n",
        "\n",
        "    # Sample counts\n",
        "    sampled_count = []\n",
        "    for circuit in qcs:\n",
        "      sampled_count.append(result.data(circuit)[\"counts\"])\n",
        "    sampled_counts.append(sampled_count)\n",
        "  \n",
        "  print(\"Sample counts: 100%\")\n",
        "  return sampled_counts"
      ],
      "metadata": {
        "id": "fpaZwzHaSGow"
      },
      "execution_count": 12,
      "outputs": []
    },
    {
      "cell_type": "markdown",
      "source": [
        "#### 5.7.4 Polynomial extrapolation\n",
        "Given sampled `counts`, we use a polynomial extrapolation to get the zero-noise limit."
      ],
      "metadata": {
        "id": "9MFW5DW2Vujh"
      }
    },
    {
      "cell_type": "code",
      "source": [
        "def polynomial_extrapolation(xs, ys):\n",
        "  coef = lambda i: np.prod([xs[j] / (xs[j] - xs[i]) for j in range(0, len(xs)) if not j == i])\n",
        "\n",
        "  return np.sum([ys[i] * coef(i) for i in range(0, len(xs))])"
      ],
      "metadata": {
        "id": "OeX_0GJ-WBXM"
      },
      "execution_count": 13,
      "outputs": []
    },
    {
      "cell_type": "markdown",
      "source": [
        "#### 5.7.5 Results with error mitigation\n",
        "Sample some `counts` using noise boosting (it can take time), then mitigate the noise error a of $\\text{ABAB}$ Trotter gate.\n",
        "Replace `simulator=True` with `simulator=False` to run the simulation on the ibmq_jakarta noisy quantum backend.\n",
        "> Best fidelity on noisy simulator: `0.96`"
      ],
      "metadata": {
        "id": "URksuseF40sG"
      }
    },
    {
      "cell_type": "code",
      "source": [
        "# Open Science Prize 2021\n",
        "def open_science_prize_2021_with_error_mitigation(simulator):\n",
        "  # Heuristic noise levels for t = pi\n",
        "  noise_levels = [1, 3, 8] # best fidelity: 0.96\n",
        "  #noise_levels = [1, 3, 10] # best fidelity: 0.96\n",
        "  #noise_levels = [1, 3, 11] # best fidelity: 0.96\n",
        "\n",
        "  # Sample counts\n",
        "  sampled_counts = sample_counts(noise_levels, simulator)\n",
        "\n",
        "  # Get backend for experiement\n",
        "  backend = quantum_backend(simulator=simulator, noisy=True)\n",
        "  \n",
        "  # Define the time parameter\n",
        "  time = Parameter(\"t\")\n",
        "  target_time = np.pi\n",
        "\n",
        "  # Create a quantum circuit acting with 7 qubits\n",
        "  qr = QuantumRegister(7)\n",
        "  qc = QuantumCircuit(qr, name=\"OSP21\")\n",
        "  \n",
        "  # Initialize qubits 3 & 5 to |1⟩ and the others to |0⟩\n",
        "  qc.x([qr[3], qr[5]])\n",
        "\n",
        "  # Simulate time evolution under the XXX Heisenberg model Hamiltonian on qubits 1, 2 and 5\n",
        "  qc.barrier()\n",
        "  qc.append(Trotter_gate_4_steps_custom_formula(time), [qr[1], qr[3], qr[5]])\n",
        "  qc.barrier()\n",
        "  \n",
        "  # Bind the time parameter to the target_time\n",
        "  qc = qc.bind_parameters({time: target_time})\n",
        "  \n",
        "  # Generate state tomography circuits\n",
        "  qcs = state_tomography_circuits(qc, [qr[1], qr[3], qr[5]])\n",
        "\n",
        "  # Experiments settings \n",
        "  shots = 1024\n",
        "\n",
        "  # Experiment execution\n",
        "  print(\"Experiment execution\")\n",
        "  job = execute(qcs, backend, shots=shots)\n",
        "\n",
        "  # Jobs monitoring \n",
        "  job_monitor(job, quiet=True)\n",
        "  result = job.result()\n",
        "\n",
        "  # The target state\n",
        "  target_state = (One^One^Zero).to_matrix()  # |110>\n",
        "\n",
        "  # Extrapolate counts for several noise levels\n",
        "  extrapolated_counts = []\n",
        "  for i in range(0, len(qcs)):\n",
        "    counts = {}\n",
        "    \n",
        "    sum = 0\n",
        "    for count in range(0, 2**3):\n",
        "      sampled_count = []\n",
        "      \n",
        "      for j in range(0, len(noise_levels)):\n",
        "        sampled_count.append(sampled_counts[j][i][hex(count)])\n",
        "      \n",
        "      counts[hex(count)] = int(max(0, polynomial_extrapolation(noise_levels, sampled_count)))\n",
        "    \n",
        "    extrapolated_counts.append(counts)\n",
        "\n",
        "  # Build mitigated results\n",
        "  mitigated_results = mitigates_result(result, extrapolated_counts, qcs)\n",
        "\n",
        "  # Compute fidelities using tomography for each repetition\n",
        "  fidelity = state_tomography_fidelity(mitigated_results, target_state, qcs)\n",
        "      \n",
        "  print(f\"State tomography fidelity = {fidelity:.4f}\")"
      ],
      "metadata": {
        "id": "6uIK1x9F4__6"
      },
      "execution_count": 14,
      "outputs": []
    },
    {
      "cell_type": "code",
      "source": [
        "open_science_prize_2021_with_error_mitigation(simulator=True)"
      ],
      "metadata": {
        "id": "t_SEpDwxyRAH",
        "colab": {
          "base_uri": "https://localhost:8080/"
        },
        "outputId": "e8887e35-4d36-4b6d-eace-24c4f205fd9d"
      },
      "execution_count": 15,
      "outputs": [
        {
          "output_type": "stream",
          "name": "stdout",
          "text": [
            "Sample counts: 0%\n",
            "Sample counts: 33%\n",
            "Sample counts: 67%\n",
            "Sample counts: 100%\n",
            "Experiment execution\n",
            "State tomography fidelity = 0.9657\n"
          ]
        }
      ]
    }
  ]
}